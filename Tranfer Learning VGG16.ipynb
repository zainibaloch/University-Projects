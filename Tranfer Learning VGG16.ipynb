{
  "metadata": {
    "kernelspec": {
      "language": "python",
      "display_name": "Python 3",
      "name": "python3"
    },
    "language_info": {
      "name": "python",
      "version": "3.11.11",
      "mimetype": "text/x-python",
      "codemirror_mode": {
        "name": "ipython",
        "version": 3
      },
      "pygments_lexer": "ipython3",
      "nbconvert_exporter": "python",
      "file_extension": ".py"
    },
    "kaggle": {
      "accelerator": "nvidiaTeslaT4",
      "dataSources": [
        {
          "sourceType": "datasetVersion",
          "sourceId": 29380,
          "datasetId": 9232,
          "databundleVersionId": 29448,
          "isSourceIdPinned": false
        }
      ],
      "isInternetEnabled": true,
      "language": "python",
      "sourceType": "notebook",
      "isGpuEnabled": true
    },
    "colab": {
      "provenance": []
    }
  },
  "nbformat_minor": 0,
  "nbformat": 4,
  "cells": [
    {
      "cell_type": "code",
      "source": [
        "import kagglehub\n",
        "\n",
        "# Download and get the local dataset path (unzip if necessary)\n",
        "dataset_path = kagglehub.dataset_download(\"paultimothymooney/blood-cells\")\n",
        "print(\"Path to dataset files:\", dataset_path)"
      ],
      "metadata": {
        "_uuid": "8f2839f25d086af736a60e9eeb907d3b93b6e0e5",
        "_cell_guid": "b1076dfc-b9ad-4769-8c92-a6c4dae69d19",
        "trusted": true,
        "execution": {
          "iopub.status.busy": "2025-06-03T17:54:31.687987Z",
          "iopub.execute_input": "2025-06-03T17:54:31.688239Z",
          "iopub.status.idle": "2025-06-03T17:54:32.227642Z",
          "shell.execute_reply.started": "2025-06-03T17:54:31.688215Z",
          "shell.execute_reply": "2025-06-03T17:54:32.227061Z"
        },
        "id": "Aep0xdIPUXAy",
        "outputId": "82d6dcb4-3709-411f-aa03-b45943bc48d3"
      },
      "outputs": [
        {
          "name": "stdout",
          "text": "Path to dataset files: /kaggle/input/blood-cells\n",
          "output_type": "stream"
        }
      ],
      "execution_count": null
    },
    {
      "cell_type": "code",
      "source": [
        "import os\n",
        "import torch\n",
        "import torch.nn as nn\n",
        "import torch.optim as optim\n",
        "from torchvision import datasets, transforms, models\n",
        "from torch.utils.data import DataLoader, Subset\n",
        "from sklearn.model_selection import train_test_split\n",
        "from sklearn.metrics import classification_report, confusion_matrix\n",
        "import matplotlib.pyplot as plt\n",
        "import seaborn as sns\n",
        "from tqdm import tqdm\n",
        "\n",
        "# Device\n",
        "device = torch.device(\"cuda\" if torch.cuda.is_available() else \"cpu\")\n",
        "print(\"Using device:\", device)\n"
      ],
      "metadata": {
        "trusted": true,
        "execution": {
          "iopub.status.busy": "2025-06-03T17:54:46.230982Z",
          "iopub.execute_input": "2025-06-03T17:54:46.231675Z",
          "iopub.status.idle": "2025-06-03T17:54:54.300594Z",
          "shell.execute_reply.started": "2025-06-03T17:54:46.231650Z",
          "shell.execute_reply": "2025-06-03T17:54:54.299910Z"
        },
        "id": "VD3GK1oHUXA1",
        "outputId": "19f428c1-c202-4feb-89a8-b530b5cac868"
      },
      "outputs": [
        {
          "name": "stdout",
          "text": "Using device: cuda\n",
          "output_type": "stream"
        }
      ],
      "execution_count": null
    },
    {
      "cell_type": "code",
      "source": [
        "# Paths\n",
        "DATA_DIR = \"/kaggle/input/blood-cells/dataset2-master/dataset2-master/images\"\n",
        "train_path = os.path.join(DATA_DIR, 'TRAIN')\n",
        "test_path = os.path.join(DATA_DIR, 'TEST')\n",
        "class_names = sorted(os.listdir(train_path))\n",
        "print(\"Classes:\", class_names)"
      ],
      "metadata": {
        "trusted": true,
        "execution": {
          "iopub.status.busy": "2025-06-03T17:55:15.713114Z",
          "iopub.execute_input": "2025-06-03T17:55:15.713593Z",
          "iopub.status.idle": "2025-06-03T17:55:15.732506Z",
          "shell.execute_reply.started": "2025-06-03T17:55:15.713570Z",
          "shell.execute_reply": "2025-06-03T17:55:15.731777Z"
        },
        "id": "MIGBRbOwUXA2",
        "outputId": "7d8a42fb-b7e6-46cd-cc6b-420f101dee36"
      },
      "outputs": [
        {
          "name": "stdout",
          "text": "Classes: ['EOSINOPHIL', 'LYMPHOCYTE', 'MONOCYTE', 'NEUTROPHIL']\n",
          "output_type": "stream"
        }
      ],
      "execution_count": null
    },
    {
      "cell_type": "code",
      "source": [
        "\n",
        "# Image transforms\n",
        "img_size = 224\n",
        "train_transform = transforms.Compose([\n",
        "    transforms.Resize((img_size, img_size)),\n",
        "    transforms.RandomHorizontalFlip(),\n",
        "    transforms.RandomRotation(10),\n",
        "    transforms.ToTensor(),\n",
        "    transforms.Normalize([0.485, 0.456, 0.406],\n",
        "                         [0.229, 0.224, 0.225])\n",
        "])\n",
        "\n",
        "val_transform = transforms.Compose([\n",
        "    transforms.Resize((img_size, img_size)),\n",
        "    transforms.ToTensor(),\n",
        "    transforms.Normalize([0.485, 0.456, 0.406],\n",
        "                         [0.229, 0.224, 0.225])\n",
        "])\n",
        "\n",
        "#  Dataset & split\n",
        "full_dataset = datasets.ImageFolder(train_path, transform=train_transform)\n",
        "val_dataset = datasets.ImageFolder(train_path, transform=val_transform)\n",
        "\n",
        "indices = list(range(len(full_dataset)))\n",
        "train_idx, val_idx = train_test_split(\n",
        "    indices,\n",
        "    test_size=0.2,\n",
        "    stratify=[full_dataset.targets[i] for i in indices],\n",
        "    random_state=42\n",
        ")\n",
        "\n",
        "train_data = Subset(full_dataset, train_idx)\n",
        "val_data = Subset(val_dataset, val_idx)\n",
        "\n",
        "train_loader = DataLoader(train_data, batch_size=16, shuffle=True)\n",
        "val_loader = DataLoader(val_data, batch_size=16, shuffle=False)"
      ],
      "metadata": {
        "trusted": true,
        "execution": {
          "iopub.status.busy": "2025-06-03T17:55:43.664245Z",
          "iopub.execute_input": "2025-06-03T17:55:43.664952Z",
          "iopub.status.idle": "2025-06-03T17:56:06.722321Z",
          "shell.execute_reply.started": "2025-06-03T17:55:43.664926Z",
          "shell.execute_reply": "2025-06-03T17:56:06.721473Z"
        },
        "id": "0s38rSBEUXA2"
      },
      "outputs": [],
      "execution_count": null
    },
    {
      "cell_type": "code",
      "source": [
        "#  Load pretrained VGG16\n",
        "vgg = models.vgg16(pretrained=True)\n",
        "\n",
        "# Freeze all features\n",
        "for param in vgg.features.parameters():\n",
        "    param.requires_grad = False\n",
        "\n",
        "# Replace classifier\n",
        "vgg.classifier[6] = nn.Linear(4096, len(class_names))\n",
        "vgg = vgg.to(device)\n",
        "\n",
        "# Loss, optimizer\n",
        "criterion = nn.CrossEntropyLoss()\n",
        "optimizer = optim.Adam(vgg.classifier.parameters(), lr=1e-4)"
      ],
      "metadata": {
        "trusted": true,
        "execution": {
          "iopub.status.busy": "2025-06-03T17:56:14.101654Z",
          "iopub.execute_input": "2025-06-03T17:56:14.102187Z",
          "iopub.status.idle": "2025-06-03T17:56:18.895014Z",
          "shell.execute_reply.started": "2025-06-03T17:56:14.102162Z",
          "shell.execute_reply": "2025-06-03T17:56:18.894451Z"
        },
        "id": "wmO0Q7p4UXA3",
        "outputId": "3de1a141-f9e0-4bef-da03-250729fb6986"
      },
      "outputs": [
        {
          "name": "stderr",
          "text": "/usr/local/lib/python3.11/dist-packages/torchvision/models/_utils.py:208: UserWarning: The parameter 'pretrained' is deprecated since 0.13 and may be removed in the future, please use 'weights' instead.\n  warnings.warn(\n/usr/local/lib/python3.11/dist-packages/torchvision/models/_utils.py:223: UserWarning: Arguments other than a weight enum or `None` for 'weights' are deprecated since 0.13 and may be removed in the future. The current behavior is equivalent to passing `weights=VGG16_Weights.IMAGENET1K_V1`. You can also use `weights=VGG16_Weights.DEFAULT` to get the most up-to-date weights.\n  warnings.warn(msg)\nDownloading: \"https://download.pytorch.org/models/vgg16-397923af.pth\" to /root/.cache/torch/hub/checkpoints/vgg16-397923af.pth\n100%|██████████| 528M/528M [00:02<00:00, 200MB/s]  \n",
          "output_type": "stream"
        }
      ],
      "execution_count": null
    },
    {
      "cell_type": "code",
      "source": [
        "#Train loop\n",
        "num_epochs = 10\n",
        "train_losses, val_losses = [], []\n",
        "\n",
        "for epoch in range(num_epochs):\n",
        "    vgg.train()\n",
        "    running_loss = 0.0\n",
        "    for images, labels in tqdm(train_loader, desc=f\"Epoch {epoch+1}/{num_epochs}\"):\n",
        "        images, labels = images.to(device), labels.to(device)\n",
        "        optimizer.zero_grad()\n",
        "        outputs = vgg(images)\n",
        "        loss = criterion(outputs, labels)\n",
        "        loss.backward()\n",
        "        optimizer.step()\n",
        "        running_loss += loss.item()\n",
        "    train_losses.append(running_loss / len(train_loader))\n",
        "\n",
        "    # Validation\n",
        "    vgg.eval()\n",
        "    val_loss, correct, total = 0.0, 0, 0\n",
        "    with torch.no_grad():\n",
        "        for images, labels in val_loader:\n",
        "            images, labels = images.to(device), labels.to(device)\n",
        "            outputs = vgg(images)\n",
        "            loss = criterion(outputs, labels)\n",
        "            val_loss += loss.item()\n",
        "            _, preds = torch.max(outputs, 1)\n",
        "            correct += (preds == labels).sum().item()\n",
        "            total += labels.size(0)\n",
        "    val_losses.append(val_loss / len(val_loader))\n",
        "    val_acc = correct / total\n",
        "    print(f\"Train Loss: {train_losses[-1]:.4f}, Val Loss: {val_losses[-1]:.4f}, Val Acc: {val_acc:.4f}\")"
      ],
      "metadata": {
        "trusted": true,
        "execution": {
          "iopub.status.busy": "2025-06-03T17:56:46.553361Z",
          "iopub.execute_input": "2025-06-03T17:56:46.554014Z",
          "iopub.status.idle": "2025-06-03T18:14:15.152671Z",
          "shell.execute_reply.started": "2025-06-03T17:56:46.553989Z",
          "shell.execute_reply": "2025-06-03T18:14:15.151836Z"
        },
        "id": "G843pn5qUXA3",
        "outputId": "ad647d59-4623-4f72-d28a-fe19c7d00893"
      },
      "outputs": [
        {
          "name": "stderr",
          "text": "Epoch 1/10: 100%|██████████| 498/498 [02:03<00:00,  4.02it/s]\n",
          "output_type": "stream"
        },
        {
          "name": "stdout",
          "text": "Train Loss: 1.1222, Val Loss: 0.7763, Val Acc: 0.6747\n",
          "output_type": "stream"
        },
        {
          "name": "stderr",
          "text": "Epoch 2/10: 100%|██████████| 498/498 [01:25<00:00,  5.86it/s]\n",
          "output_type": "stream"
        },
        {
          "name": "stdout",
          "text": "Train Loss: 0.7559, Val Loss: 0.7034, Val Acc: 0.6827\n",
          "output_type": "stream"
        },
        {
          "name": "stderr",
          "text": "Epoch 3/10: 100%|██████████| 498/498 [01:25<00:00,  5.86it/s]\n",
          "output_type": "stream"
        },
        {
          "name": "stdout",
          "text": "Train Loss: 0.5517, Val Loss: 0.4550, Val Acc: 0.8062\n",
          "output_type": "stream"
        },
        {
          "name": "stderr",
          "text": "Epoch 4/10: 100%|██████████| 498/498 [01:24<00:00,  5.87it/s]\n",
          "output_type": "stream"
        },
        {
          "name": "stdout",
          "text": "Train Loss: 0.4477, Val Loss: 0.3681, Val Acc: 0.8549\n",
          "output_type": "stream"
        },
        {
          "name": "stderr",
          "text": "Epoch 5/10: 100%|██████████| 498/498 [01:24<00:00,  5.88it/s]\n",
          "output_type": "stream"
        },
        {
          "name": "stdout",
          "text": "Train Loss: 0.3974, Val Loss: 0.3494, Val Acc: 0.8499\n",
          "output_type": "stream"
        },
        {
          "name": "stderr",
          "text": "Epoch 6/10: 100%|██████████| 498/498 [01:24<00:00,  5.91it/s]\n",
          "output_type": "stream"
        },
        {
          "name": "stdout",
          "text": "Train Loss: 0.3431, Val Loss: 0.2940, Val Acc: 0.8855\n",
          "output_type": "stream"
        },
        {
          "name": "stderr",
          "text": "Epoch 7/10: 100%|██████████| 498/498 [01:24<00:00,  5.89it/s]\n",
          "output_type": "stream"
        },
        {
          "name": "stdout",
          "text": "Train Loss: 0.3119, Val Loss: 0.2872, Val Acc: 0.8755\n",
          "output_type": "stream"
        },
        {
          "name": "stderr",
          "text": "Epoch 8/10: 100%|██████████| 498/498 [01:24<00:00,  5.86it/s]\n",
          "output_type": "stream"
        },
        {
          "name": "stdout",
          "text": "Train Loss: 0.2637, Val Loss: 0.2800, Val Acc: 0.8830\n",
          "output_type": "stream"
        },
        {
          "name": "stderr",
          "text": "Epoch 9/10: 100%|██████████| 498/498 [01:24<00:00,  5.89it/s]\n",
          "output_type": "stream"
        },
        {
          "name": "stdout",
          "text": "Train Loss: 0.2604, Val Loss: 0.3321, Val Acc: 0.8745\n",
          "output_type": "stream"
        },
        {
          "name": "stderr",
          "text": "Epoch 10/10: 100%|██████████| 498/498 [01:24<00:00,  5.89it/s]\n",
          "output_type": "stream"
        },
        {
          "name": "stdout",
          "text": "Train Loss: 0.2359, Val Loss: 0.3178, Val Acc: 0.8790\n",
          "output_type": "stream"
        }
      ],
      "execution_count": null
    },
    {
      "cell_type": "code",
      "source": [
        "# Plot loss\n",
        "plt.plot(train_losses, label='Train Loss')\n",
        "plt.plot(val_losses, label='Val Loss')\n",
        "plt.legend()\n",
        "plt.title(\"Loss Curve\")\n",
        "plt.show()"
      ],
      "metadata": {
        "trusted": true,
        "execution": {
          "iopub.status.busy": "2025-06-03T18:15:53.879664Z",
          "iopub.execute_input": "2025-06-03T18:15:53.880201Z",
          "iopub.status.idle": "2025-06-03T18:15:54.047038Z",
          "shell.execute_reply.started": "2025-06-03T18:15:53.880172Z",
          "shell.execute_reply": "2025-06-03T18:15:54.046472Z"
        },
        "id": "Ym36D4UuUXA4",
        "outputId": "5605f4e0-88d5-4422-88ee-87fbca41df87"
      },
      "outputs": [
        {
          "output_type": "display_data",
          "data": {
            "text/plain": "<Figure size 640x480 with 1 Axes>",
            "image/png": "[encoded data removed]"
          },
          "metadata": {}
        }
      ],
      "execution_count": null
    },
    {
      "cell_type": "code",
      "source": [
        "# Classification Report\n",
        "y_true, y_pred = [], []\n",
        "vgg.eval()\n",
        "with torch.no_grad():\n",
        "    for images, labels in val_loader:\n",
        "        images = images.to(device)\n",
        "        outputs = vgg(images)\n",
        "        _, preds = torch.max(outputs, 1)\n",
        "        y_true.extend(labels.cpu().numpy())\n",
        "        y_pred.extend(preds.cpu().numpy())\n",
        "\n",
        "print(\"Classification Report:\\n\", classification_report(y_true, y_pred, target_names=class_names))"
      ],
      "metadata": {
        "trusted": true,
        "execution": {
          "iopub.status.busy": "2025-06-03T18:16:10.793751Z",
          "iopub.execute_input": "2025-06-03T18:16:10.794299Z",
          "iopub.status.idle": "2025-06-03T18:16:26.385567Z",
          "shell.execute_reply.started": "2025-06-03T18:16:10.794274Z",
          "shell.execute_reply": "2025-06-03T18:16:26.384905Z"
        },
        "id": "v-KEcLPWUXA4",
        "outputId": "95c1b1d6-7861-4397-dcdf-237acb84e551"
      },
      "outputs": [
        {
          "name": "stdout",
          "text": "Classification Report:\n               precision    recall  f1-score   support\n\n  EOSINOPHIL       0.96      0.63      0.76       499\n  LYMPHOCYTE       0.89      0.99      0.93       497\n    MONOCYTE       0.95      0.98      0.97       496\n  NEUTROPHIL       0.76      0.92      0.83       500\n\n    accuracy                           0.88      1992\n   macro avg       0.89      0.88      0.87      1992\nweighted avg       0.89      0.88      0.87      1992\n\n",
          "output_type": "stream"
        }
      ],
      "execution_count": null
    },
    {
      "cell_type": "code",
      "source": [
        "#Confusion Matrix\n",
        "cm = confusion_matrix(y_true, y_pred)\n",
        "plt.figure(figsize=(8,6))\n",
        "sns.heatmap(cm, annot=True, fmt='d', cmap='Blues', xticklabels=class_names, yticklabels=class_names)\n",
        "plt.title(\"Confusion Matrix\")\n",
        "plt.xlabel(\"Predicted\")\n",
        "plt.ylabel(\"Actual\")\n",
        "plt.show()"
      ],
      "metadata": {
        "trusted": true,
        "execution": {
          "iopub.status.busy": "2025-06-03T18:16:30.900284Z",
          "iopub.execute_input": "2025-06-03T18:16:30.900869Z",
          "iopub.status.idle": "2025-06-03T18:16:31.083083Z",
          "shell.execute_reply.started": "2025-06-03T18:16:30.900842Z",
          "shell.execute_reply": "2025-06-03T18:16:31.082334Z"
        },
        "id": "7-Xso3eJUXA4",
        "outputId": "4a3807c8-03e6-4e80-c93b-aa7dae184459"
      },
      "outputs": [
        {
          "output_type": "display_data",
          "data": {
            "text/plain": "<Figure size 800x600 with 2 Axes>",
            "image/png": "[encoded data removed]"
          },
          "metadata": {}
        }
      ],
      "execution_count": null
    }
  ]
}